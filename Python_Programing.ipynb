{
  "nbformat": 4,
  "nbformat_minor": 0,
  "metadata": {
    "colab": {
      "name": "Python Programlama",
      "version": "0.3.2",
      "provenance": []
    },
    "kernelspec": {
      "name": "python3",
      "display_name": "Python 3"
    }
  },
  "cells": [
    {
      "cell_type": "code",
      "metadata": {
        "id": "-IeyU4VmWokm",
        "colab_type": "code",
        "colab": {}
      },
      "source": [
        ""
      ],
      "execution_count": 0,
      "outputs": []
    },
    {
      "cell_type": "markdown",
      "metadata": {
        "id": "nFRfL01_WpwO",
        "colab_type": "text"
      },
      "source": [
        "##Python Programlama Dili\n",
        "\n",
        "\n",
        "\n",
        "\n",
        "\n",
        "\n"
      ]
    },
    {
      "cell_type": "markdown",
      "metadata": {
        "id": "_VHBOPJ_XzeJ",
        "colab_type": "text"
      },
      "source": [
        "####Değişken Tanımı\n",
        "\n",
        "Python'da değişken tanımı değişken ismi = değişken değeri olarak gerçekleştirilir. \n",
        "```\n",
        "counter = 100 (integer)\n",
        "\n",
        "miles = 52.3 (float)\n",
        "\n",
        "name = \"Python\" (String)\n",
        "```\n",
        "\n",
        "\n",
        "\n",
        "\n",
        "\n"
      ]
    },
    {
      "cell_type": "markdown",
      "metadata": {
        "id": "29Rg-tHPdV9p",
        "colab_type": "text"
      },
      "source": [
        "####Print Fonksiyonu\n",
        "Ekrana bir değer basılmak istenildiğinde print() fonksiyonu kullanılır"
      ]
    },
    {
      "cell_type": "code",
      "metadata": {
        "id": "mGNRvMibaqpx",
        "colab_type": "code",
        "colab": {
          "base_uri": "https://localhost:8080/",
          "height": 34
        },
        "outputId": "6bdf0fa6-6bd8-4be0-c3c5-c86f5965381b"
      },
      "source": [
        "number = 15 #integer\n",
        "print (number)"
      ],
      "execution_count": 4,
      "outputs": [
        {
          "output_type": "stream",
          "text": [
            "15\n"
          ],
          "name": "stdout"
        }
      ]
    },
    {
      "cell_type": "markdown",
      "metadata": {
        "id": "oXR2ngMSb7x2",
        "colab_type": "text"
      },
      "source": [
        "\n",
        "Değişken sayısal bir değese ekrana basılmak istenildiğinde bir yazı ile yazılması gerçekleştirilemez.\n",
        "```\n",
        "yas = 23\n",
        "print (\"Yaşınız : \" + yas)\n",
        "```\n",
        "\n",
        "*Bu kod hata verecektir.*\n",
        "\n",
        "\n"
      ]
    },
    {
      "cell_type": "code",
      "metadata": {
        "id": "Z4M22SRkeJHZ",
        "colab_type": "code",
        "colab": {
          "base_uri": "https://localhost:8080/",
          "height": 34
        },
        "outputId": "24c38f0c-d7bb-4490-dd53-4574fd92976f"
      },
      "source": [
        "#Tip dönüşümü\n",
        "\n",
        "tc = \"25874152589\"\n",
        "print (float(tc) + 10)"
      ],
      "execution_count": 6,
      "outputs": [
        {
          "output_type": "stream",
          "text": [
            "25874152599.0\n"
          ],
          "name": "stdout"
        }
      ]
    },
    {
      "cell_type": "code",
      "metadata": {
        "id": "G23xQ26cem2H",
        "colab_type": "code",
        "colab": {
          "base_uri": "https://localhost:8080/",
          "height": 87
        },
        "outputId": "3e6d53f6-f550-4419-ca7d-92503aeae362"
      },
      "source": [
        "#Değişkenin tipini öğrenme\n",
        "\n",
        "sayi=5\n",
        "isim = \"Python\"\n",
        "pi = 3.14159265\n",
        "kilo = 52.8\n",
        "\n",
        "#tanımlanan değişkenlerin tipini ekrana bastırma\n",
        "\n",
        "print(type(sayi)) \n",
        "print(type(isim))\n",
        "print(type(pi))\n",
        "print(type(kilo))"
      ],
      "execution_count": 8,
      "outputs": [
        {
          "output_type": "stream",
          "text": [
            "<class 'int'>\n",
            "<class 'str'>\n",
            "<class 'float'>\n",
            "<class 'float'>\n"
          ],
          "name": "stdout"
        }
      ]
    },
    {
      "cell_type": "markdown",
      "metadata": {
        "id": "jI1U5I85gPte",
        "colab_type": "text"
      },
      "source": [
        "##Stringlerle Çalışmak\n"
      ]
    },
    {
      "cell_type": "code",
      "metadata": {
        "id": "EF_BUQdugj31",
        "colab_type": "code",
        "colab": {
          "base_uri": "https://localhost:8080/",
          "height": 34
        },
        "outputId": "55e121d1-432e-4243-dee5-b0498b198625"
      },
      "source": [
        "#Python büyük küçük harf duyarlı bir programlama dilidir.\n",
        "# iki string değeri birbiriyle karşılaştırmak aynı olup olmadığını anlamak için upper yada lower fonksiyonu kullanılır.\n",
        "# upper() tüm harfleri büyük harfe çevirir\n",
        "# lower() tüm harfleri küçük harfe çevirir\n",
        "\n",
        "birinciString = \"PytHon PROGRAMlama DerSI\"\n",
        "ikinciString = \"python programlama dersi\"\n",
        "\n",
        "if(birinciString.upper() == ikinciString.upper()):\n",
        "  print(\"Stringler aynı\")\n",
        "else:\n",
        "  print(\"Stringler farklı\")"
      ],
      "execution_count": 16,
      "outputs": [
        {
          "output_type": "stream",
          "text": [
            "Stringler aynı\n"
          ],
          "name": "stdout"
        }
      ]
    },
    {
      "cell_type": "markdown",
      "metadata": {
        "id": "XvjXjfe1iOHE",
        "colab_type": "text"
      },
      "source": [
        ""
      ]
    },
    {
      "cell_type": "code",
      "metadata": {
        "id": "HBMNgshAiLBZ",
        "colab_type": "code",
        "colab": {}
      },
      "source": [
        ""
      ],
      "execution_count": 0,
      "outputs": []
    },
    {
      "cell_type": "code",
      "metadata": {
        "id": "NgK808cVeWif",
        "colab_type": "code",
        "colab": {}
      },
      "source": [
        "#Stringlerle Çalışmak\n",
        "\n"
      ],
      "execution_count": 0,
      "outputs": []
    },
    {
      "cell_type": "markdown",
      "metadata": {
        "id": "cHALZ9M_cYR1",
        "colab_type": "text"
      },
      "source": [
        ""
      ]
    },
    {
      "cell_type": "markdown",
      "metadata": {
        "id": "TERUMpvCdVtK",
        "colab_type": "text"
      },
      "source": [
        ""
      ]
    },
    {
      "cell_type": "code",
      "metadata": {
        "id": "zpEE9-CedTbN",
        "colab_type": "code",
        "colab": {}
      },
      "source": [
        ""
      ],
      "execution_count": 0,
      "outputs": []
    }
  ]
}